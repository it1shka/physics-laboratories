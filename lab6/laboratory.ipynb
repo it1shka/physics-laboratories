{
 "cells": [
  {
   "cell_type": "code",
   "execution_count": 2,
   "metadata": {},
   "outputs": [
    {
     "data": {
      "text/html": [
       "<div><div style = \"float: left;\"><span>21×2 DataFrame</span></div><div style = \"clear: both;\"></div></div><div class = \"data-frame\" style = \"overflow-x: scroll;\"><table class = \"data-frame\" style = \"margin-bottom: 6px;\"><thead><tr class = \"header\"><th class = \"rowNumber\" style = \"font-weight: bold; text-align: right;\">Row</th><th style = \"text-align: left;\">V</th><th style = \"text-align: left;\">A</th></tr><tr class = \"subheader headerLastRow\"><th class = \"rowNumber\" style = \"font-weight: bold; text-align: right;\"></th><th title = \"Float64\" style = \"text-align: left;\">Float64</th><th title = \"Float64\" style = \"text-align: left;\">Float64</th></tr></thead><tbody><tr><td class = \"rowNumber\" style = \"font-weight: bold; text-align: right;\">1</td><td style = \"text-align: right;\">1.32</td><td style = \"text-align: right;\">0.0</td></tr><tr><td class = \"rowNumber\" style = \"font-weight: bold; text-align: right;\">2</td><td style = \"text-align: right;\">1.649</td><td style = \"text-align: right;\">8.0</td></tr><tr><td class = \"rowNumber\" style = \"font-weight: bold; text-align: right;\">3</td><td style = \"text-align: right;\">1.706</td><td style = \"text-align: right;\">30.0</td></tr><tr><td class = \"rowNumber\" style = \"font-weight: bold; text-align: right;\">4</td><td style = \"text-align: right;\">1.783</td><td style = \"text-align: right;\">153.4</td></tr><tr><td class = \"rowNumber\" style = \"font-weight: bold; text-align: right;\">5</td><td style = \"text-align: right;\">1.816</td><td style = \"text-align: right;\">284.3</td></tr><tr><td class = \"rowNumber\" style = \"font-weight: bold; text-align: right;\">6</td><td style = \"text-align: right;\">1.831</td><td style = \"text-align: right;\">370.0</td></tr><tr><td class = \"rowNumber\" style = \"font-weight: bold; text-align: right;\">7</td><td style = \"text-align: right;\">1.86</td><td style = \"text-align: right;\">645.0</td></tr><tr><td class = \"rowNumber\" style = \"font-weight: bold; text-align: right;\">8</td><td style = \"text-align: right;\">1.864</td><td style = \"text-align: right;\">898.0</td></tr><tr><td class = \"rowNumber\" style = \"font-weight: bold; text-align: right;\">9</td><td style = \"text-align: right;\">1.871</td><td style = \"text-align: right;\">1028.0</td></tr><tr><td class = \"rowNumber\" style = \"font-weight: bold; text-align: right;\">10</td><td style = \"text-align: right;\">1.891</td><td style = \"text-align: right;\">1553.0</td></tr><tr><td class = \"rowNumber\" style = \"font-weight: bold; text-align: right;\">11</td><td style = \"text-align: right;\">1.904</td><td style = \"text-align: right;\">2022.0</td></tr><tr><td class = \"rowNumber\" style = \"font-weight: bold; text-align: right;\">12</td><td style = \"text-align: right;\">1.921</td><td style = \"text-align: right;\">2767.0</td></tr><tr><td class = \"rowNumber\" style = \"font-weight: bold; text-align: right;\">13</td><td style = \"text-align: right;\">1.945</td><td style = \"text-align: right;\">3945.0</td></tr><tr><td class = \"rowNumber\" style = \"font-weight: bold; text-align: right;\">14</td><td style = \"text-align: right;\">1.973</td><td style = \"text-align: right;\">5630.0</td></tr><tr><td class = \"rowNumber\" style = \"font-weight: bold; text-align: right;\">15</td><td style = \"text-align: right;\">1.995</td><td style = \"text-align: right;\">8100.0</td></tr><tr><td class = \"rowNumber\" style = \"font-weight: bold; text-align: right;\">16</td><td style = \"text-align: right;\">2.026</td><td style = \"text-align: right;\">10070.0</td></tr><tr><td class = \"rowNumber\" style = \"font-weight: bold; text-align: right;\">17</td><td style = \"text-align: right;\">2.054</td><td style = \"text-align: right;\">13850.0</td></tr><tr><td class = \"rowNumber\" style = \"font-weight: bold; text-align: right;\">18</td><td style = \"text-align: right;\">2.079</td><td style = \"text-align: right;\">17690.0</td></tr><tr><td class = \"rowNumber\" style = \"font-weight: bold; text-align: right;\">19</td><td style = \"text-align: right;\">2.101</td><td style = \"text-align: right;\">21730.0</td></tr><tr><td class = \"rowNumber\" style = \"font-weight: bold; text-align: right;\">20</td><td style = \"text-align: right;\">2.123</td><td style = \"text-align: right;\">25190.0</td></tr><tr><td class = \"rowNumber\" style = \"font-weight: bold; text-align: right;\">21</td><td style = \"text-align: right;\">2.137</td><td style = \"text-align: right;\">27890.0</td></tr></tbody></table></div>"
      ],
      "text/latex": [
       "\\begin{tabular}{r|cc}\n",
       "\t& V & A\\\\\n",
       "\t\\hline\n",
       "\t& Float64 & Float64\\\\\n",
       "\t\\hline\n",
       "\t1 & 1.32 & 0.0 \\\\\n",
       "\t2 & 1.649 & 8.0 \\\\\n",
       "\t3 & 1.706 & 30.0 \\\\\n",
       "\t4 & 1.783 & 153.4 \\\\\n",
       "\t5 & 1.816 & 284.3 \\\\\n",
       "\t6 & 1.831 & 370.0 \\\\\n",
       "\t7 & 1.86 & 645.0 \\\\\n",
       "\t8 & 1.864 & 898.0 \\\\\n",
       "\t9 & 1.871 & 1028.0 \\\\\n",
       "\t10 & 1.891 & 1553.0 \\\\\n",
       "\t11 & 1.904 & 2022.0 \\\\\n",
       "\t12 & 1.921 & 2767.0 \\\\\n",
       "\t13 & 1.945 & 3945.0 \\\\\n",
       "\t14 & 1.973 & 5630.0 \\\\\n",
       "\t15 & 1.995 & 8100.0 \\\\\n",
       "\t16 & 2.026 & 10070.0 \\\\\n",
       "\t17 & 2.054 & 13850.0 \\\\\n",
       "\t18 & 2.079 & 17690.0 \\\\\n",
       "\t19 & 2.101 & 21730.0 \\\\\n",
       "\t20 & 2.123 & 25190.0 \\\\\n",
       "\t21 & 2.137 & 27890.0 \\\\\n",
       "\\end{tabular}\n"
      ],
      "text/plain": [
       "\u001b[1m21×2 DataFrame\u001b[0m\n",
       "\u001b[1m Row \u001b[0m│\u001b[1m V       \u001b[0m\u001b[1m A       \u001b[0m\n",
       "     │\u001b[90m Float64 \u001b[0m\u001b[90m Float64 \u001b[0m\n",
       "─────┼──────────────────\n",
       "   1 │   1.32       0.0\n",
       "   2 │   1.649      8.0\n",
       "   3 │   1.706     30.0\n",
       "   4 │   1.783    153.4\n",
       "   5 │   1.816    284.3\n",
       "   6 │   1.831    370.0\n",
       "   7 │   1.86     645.0\n",
       "   8 │   1.864    898.0\n",
       "  ⋮  │    ⋮        ⋮\n",
       "  15 │   1.995   8100.0\n",
       "  16 │   2.026  10070.0\n",
       "  17 │   2.054  13850.0\n",
       "  18 │   2.079  17690.0\n",
       "  19 │   2.101  21730.0\n",
       "  20 │   2.123  25190.0\n",
       "  21 │   2.137  27890.0\n",
       "\u001b[36m          6 rows omitted\u001b[0m"
      ]
     },
     "metadata": {},
     "output_type": "display_data"
    }
   ],
   "source": [
    "using DataFrames\n",
    "\n",
    "frame = DataFrame(\n",
    "  V = [1.320, 1.649, 1.706, 1.783, 1.816, 1.831, 1.860, 1.864, 1.871, 1.891, 1.904, 1.921, 1.945, 1.973, 1.995, 2.026, 2.054, 2.079, 2.101, 2.123, 2.137],\n",
    "  A = [  0.0,   8.0,  30.0, 153.4, 284.3,   370,   645,   898,  1028,  1553,  2022,  2767,  3945,  5630,  8100, 10070, 13850, 17690, 21730, 25190, 27890],\n",
    ")"
   ]
  },
  {
   "cell_type": "code",
   "execution_count": 3,
   "metadata": {},
   "outputs": [
    {
     "data": {
      "text/plain": [
       "21-element Vector{Float64}:\n",
       "   0.30000000000000004\n",
       "   0.41200000000000003\n",
       "   0.72\n",
       "   2.4476000000000004\n",
       "   4.280200000000001\n",
       "   8.18\n",
       "  12.03\n",
       "  15.572000000000001\n",
       "  17.392\n",
       "  24.742\n",
       "   ⋮\n",
       "  58.230000000000004\n",
       " 108.82000000000001\n",
       " 143.4\n",
       " 170.98\n",
       " 223.9\n",
       " 277.65999999999997\n",
       " 334.22\n",
       " 382.66\n",
       " 420.46000000000004"
      ]
     },
     "metadata": {},
     "output_type": "display_data"
    }
   ],
   "source": [
    "x = frame.V\n",
    "y = frame.A\n",
    "\n",
    "xerr = (rdg -> 0.009rdg + 0.002).(x)\n",
    "\n",
    "function dgtA(i)\n",
    "  if i in 1:5\n",
    "    0.1\n",
    "  elseif i in 6:13\n",
    "    1\n",
    "  else\n",
    "    10\n",
    "  end\n",
    "end\n",
    "\n",
    "rdgA(i) = y[i]\n",
    "\n",
    "yerr = (i -> 0.014rdgA(i) + 3dgtA(i)).(1:21)\n"
   ]
  },
  {
   "cell_type": "code",
   "execution_count": 4,
   "metadata": {},
   "outputs": [
    {
     "name": "stderr",
     "output_type": "stream",
     "text": [
      "WARNING: using Plots.frame in module Main conflicts with an existing identifier.\n"
     ]
    },
    {
     "data": {
      "text/plain": [
       "\"/Users/tikhon/Documents/studies/physics-calculations/lab6/current-voltage.png\""
      ]
     },
     "metadata": {},
     "output_type": "display_data"
    }
   ],
   "source": [
    "using Plots\n",
    "\n",
    "plot(x, y, label=\"Plot line\")\n",
    "scatter!(x, y, xerr=xerr, yerr=yerr, markersize=3, label=\"Point\")\n",
    "\n",
    "xlabel!(\"U, V\")\n",
    "ylabel!(\"A, μA\")\n",
    "\n",
    "title!(\"Plot of Current-Voltage Characteristics\")\n",
    "\n",
    "savefig(\"current-voltage.png\")"
   ]
  },
  {
   "cell_type": "code",
   "execution_count": 5,
   "metadata": {},
   "outputs": [
    {
     "name": "stdout",
     "output_type": "stream",
     "text": [
      "a = 161474.65784349025\n",
      "b = -317540.4527000831\n"
     ]
    },
    {
     "name": "stdout",
     "output_type": "stream",
     "text": [
      "μa = 4292.039607792453\n",
      "μb = 8957.575435839943\n"
     ]
    },
    {
     "data": {
      "text/plain": [
       "8957.575435839943"
      ]
     },
     "metadata": {},
     "output_type": "display_data"
    }
   ],
   "source": [
    "using GLM\n",
    "\n",
    "Ωx = x[end-5:end]\n",
    "Ωy = y[end-5:end]\n",
    "\n",
    "model = lm(@formula(Y ~ X), DataFrame(X=Ωx, Y=Ωy))\n",
    "b, a = coef(model)\n",
    "\n",
    "@show a b\n",
    "\n",
    "μb, μa = stderror(model)\n",
    "\n",
    "@show μa μb\n"
   ]
  },
  {
   "cell_type": "code",
   "execution_count": 6,
   "metadata": {},
   "outputs": [
    {
     "data": {
      "text/plain": [
       "\"/Users/tikhon/Documents/studies/physics-calculations/lab6/regression.png\""
      ]
     },
     "metadata": {},
     "output_type": "display_data"
    }
   ],
   "source": [
    "predict(x) = a*x + b\n",
    "\n",
    "θx = x[end-7:end]\n",
    "θy = predict.(θx)\n",
    "\n",
    "scatter(x, y, xerr=xerr, yerr=yerr, markersize=3, label=\"Point\")\n",
    "xlabel!(\"U, V\")\n",
    "ylabel!(\"A, μA\")\n",
    "title!(\"Linear Regression Applied\")\n",
    "\n",
    "plot!(θx, θy, label=\"Regression Line\")\n",
    "\n",
    "savefig(\"regression.png\")"
   ]
  },
  {
   "cell_type": "code",
   "execution_count": 7,
   "metadata": {},
   "outputs": [
    {
     "data": {
      "text/plain": [
       "0.07622000375072635"
      ]
     },
     "metadata": {},
     "output_type": "display_data"
    }
   ],
   "source": [
    "Ub = -b / a\n",
    "\n",
    "∑(X) = reduce(+, X)\n",
    "\n",
    "Y(μs) = (μ -> μ ^ 2).(μs) |> ∑ |> √\n",
    "\n",
    "μUb = Y([ μb / a, b * μa / a^2 ])"
   ]
  },
  {
   "cell_type": "code",
   "execution_count": 8,
   "metadata": {},
   "outputs": [
    {
     "name": "stdout",
     "output_type": "stream",
     "text": [
      "Ub = 1.966503332107135\n"
     ]
    },
    {
     "data": {
      "text/plain": [
       "6.09554260315452e-34"
      ]
     },
     "metadata": {},
     "output_type": "display_data"
    }
   ],
   "source": [
    "using GLM\n",
    "\n",
    "function getUb(accuracy)\n",
    "  sampleX = x[end-accuracy:end]\n",
    "  sampleY = y[end-accuracy:end]\n",
    "\n",
    "  model = lm(@formula(Y ~ X), DataFrame(X=sampleX, Y=sampleY))\n",
    "  b, a = coef(model)\n",
    "\n",
    "  -b / a\n",
    "end\n",
    "\n",
    "e = 1.602176634e-19\n",
    "c = 299792458\n",
    "λ = 580e-9\n",
    "Ub = getUb(5)\n",
    "\n",
    "@show Ub\n",
    "\n",
    "h = (e / c) * λ * Ub"
   ]
  },
  {
   "cell_type": "code",
   "execution_count": 9,
   "metadata": {},
   "outputs": [
    {
     "data": {
      "text/plain": [
       "3.9398422532600595e-35"
      ]
     },
     "metadata": {},
     "output_type": "display_data"
    }
   ],
   "source": [
    "μλ = 30e-9\n",
    "\n",
    "μh = (e / c) * Y([ Ub * μλ, λ * μUb ])"
   ]
  },
  {
   "cell_type": "code",
   "execution_count": 10,
   "metadata": {},
   "outputs": [
    {
     "name": "stdout",
     "output_type": "stream",
     "text": [
      "round.(digits = 2, yerr) = [0.3, 0.41, 0.72, 2.45, 4.28, 8.18, 12.03, 15.57, 17.39, 24.74, 31.31, 41.74, 58.23, 108.82, 143.4, 170.98, 223.9, 277.66, 334.22, 382.66, 420.46]\n"
     ]
    },
    {
     "data": {
      "text/plain": [
       "21-element Vector{Float64}:\n",
       "   0.3\n",
       "   0.41\n",
       "   0.72\n",
       "   2.45\n",
       "   4.28\n",
       "   8.18\n",
       "  12.03\n",
       "  15.57\n",
       "  17.39\n",
       "  24.74\n",
       "   ⋮\n",
       "  58.23\n",
       " 108.82\n",
       " 143.4\n",
       " 170.98\n",
       " 223.9\n",
       " 277.66\n",
       " 334.22\n",
       " 382.66\n",
       " 420.46"
      ]
     },
     "metadata": {},
     "output_type": "display_data"
    }
   ],
   "source": [
    "@show round.(digits=2, yerr)"
   ]
  },
  {
   "cell_type": "code",
   "execution_count": 11,
   "metadata": {},
   "outputs": [
    {
     "data": {
      "text/plain": [
       "planck (generic function with 1 method)"
      ]
     },
     "metadata": {},
     "output_type": "display_data"
    }
   ],
   "source": [
    "using GLM\n",
    "\n",
    "function getUb(accuracy)\n",
    "  sampleX = x[end-accuracy:end]\n",
    "  sampleY = y[end-accuracy:end]\n",
    "\n",
    "  model = lm(@formula(Y ~ X), DataFrame(X=sampleX, Y=sampleY))\n",
    "  b, a = coef(model)\n",
    "\n",
    "  -b / a\n",
    "end\n",
    "\n",
    "e = 1.602176634e-19\n",
    "c = 299792458\n",
    "λ = 580e-9\n",
    "\n",
    "planck(δ) = (e / c) * λ * getUb(δ)\n"
   ]
  },
  {
   "cell_type": "code",
   "execution_count": 23,
   "metadata": {},
   "outputs": [
    {
     "data": {
      "text/plain": [
       "\"/Users/tikhon/Documents/studies/physics-calculations/lab6/custom.png\""
      ]
     },
     "metadata": {},
     "output_type": "display_data"
    }
   ],
   "source": [
    "accuracies = 1:20\n",
    "constants = planck.(accuracies)\n",
    "\n",
    "xx = (x -> x + 1).(accuracies)\n",
    "yy = (h -> round(h * 1e34, digits=2)).(constants)\n",
    "\n",
    "plot(xx, yy, label=\"\")\n",
    "scatter!(xx, yy, label=\"My Values\")\n",
    "plot!(xx, fill(6.626, length(xx)), label=\"Actual Planck Constant\", markersize=10)\n",
    "\n",
    "xlabel!(\"δ, Amount of Points\")\n",
    "ylabel!(\"h, J ⋅ s ⋅ 10^-34\")\n",
    "\n",
    "savefig(\"custom.png\")"
   ]
  }
 ],
 "metadata": {
  "kernelspec": {
   "display_name": "Julia 1.8.5",
   "language": "julia",
   "name": "julia-1.8"
  },
  "language_info": {
   "file_extension": ".jl",
   "mimetype": "application/julia",
   "name": "julia",
   "version": "1.8.5"
  },
  "orig_nbformat": 4
 },
 "nbformat": 4,
 "nbformat_minor": 2
}
